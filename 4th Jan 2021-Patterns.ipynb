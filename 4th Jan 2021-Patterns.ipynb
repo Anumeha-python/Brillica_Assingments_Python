{
 "cells": [
  {
   "cell_type": "code",
   "execution_count": 7,
   "metadata": {},
   "outputs": [
    {
     "name": "stdout",
     "output_type": "stream",
     "text": [
      "Please enter the number of rows: 6\n",
      "* \n",
      "* * \n",
      "* * * \n",
      "* * * * \n",
      "* * * * * \n",
      "* * * * * * \n",
      "* * * * * * * \n"
     ]
    }
   ],
   "source": [
    "# pattern with * - Right Triangle \n",
    "\n",
    "num = int(input(\"Please enter the number of rows: \"))\n",
    "\n",
    "for i in range(0,num+1):\n",
    "    for j in range(1+i):\n",
    "          print(\"*\",end=\" \")\n",
    "    print()        "
   ]
  },
  {
   "cell_type": "code",
   "execution_count": 8,
   "metadata": {},
   "outputs": [
    {
     "name": "stdout",
     "output_type": "stream",
     "text": [
      "Please enter the number of rows: 6\n",
      "*****\n",
      "****\n",
      "***\n",
      "**\n",
      "*\n",
      "\n",
      "\n"
     ]
    }
   ],
   "source": [
    "#pattern with * - Inverted Right Triangle \n",
    "\n",
    "num = int(input(\"Please enter the number of rows: \"))\n",
    "\n",
    "for i in range(num,-1,-1):\n",
    "    for j in range(i-1):\n",
    "        print(\"*\", end=\"\")\n",
    "    print()    "
   ]
  },
  {
   "cell_type": "code",
   "execution_count": 17,
   "metadata": {},
   "outputs": [
    {
     "name": "stdout",
     "output_type": "stream",
     "text": [
      "Please enter the number of rows: 6\n",
      "     * \n",
      "    * * \n",
      "   * * * \n",
      "  * * * * \n",
      " * * * * * \n",
      "* * * * * * \n"
     ]
    }
   ],
   "source": [
    "#pattern with * - Triangle\n",
    "\n",
    "num = int(input(\"Please enter the number of rows: \"))\n",
    "\n",
    "for i in range(0,num):\n",
    "    for j in range(0,num-i-1):\n",
    "        print(end=\" \")\n",
    "    for j in range(0,i+1):\n",
    "            print(\"*\",end=\" \")\n",
    "    print()        \n"
   ]
  },
  {
   "cell_type": "code",
   "execution_count": 22,
   "metadata": {},
   "outputs": [
    {
     "name": "stdout",
     "output_type": "stream",
     "text": [
      "Please enter the number of rows: 6\n",
      "* * * * * * \n",
      " * * * * * \n",
      "  * * * * \n",
      "   * * * \n",
      "    * * \n",
      "     * \n"
     ]
    }
   ],
   "source": [
    "#pattern with * - Inverted Triangle \n",
    "\n",
    "num = int(input(\"Please enter the number of rows: \"))\n",
    "\n",
    "for i in range(num,0,-1):\n",
    "    for j in range(0,num-i):\n",
    "        print(end=\" \")\n",
    "    for j in range(0,i):\n",
    "        print(\"*\",end=\" \")\n",
    "    print()\n",
    "     \n",
    "        "
   ]
  },
  {
   "cell_type": "code",
   "execution_count": null,
   "metadata": {},
   "outputs": [],
   "source": [
    "# pattern with * - Pyramid shape "
   ]
  },
  {
   "cell_type": "code",
   "execution_count": 27,
   "metadata": {},
   "outputs": [
    {
     "name": "stdout",
     "output_type": "stream",
     "text": [
      "Please enter the number of rows: 6\n",
      "     * \n",
      "    * * \n",
      "   * * * \n",
      "  * * * * \n",
      " * * * * * \n",
      "* * * * * * \n",
      "* * * * * * \n",
      " * * * * * \n",
      "  * * * * \n",
      "   * * * \n",
      "    * * \n",
      "     * \n"
     ]
    }
   ],
   "source": [
    "num = int(input(\"Please enter the number of rows: \"))\n",
    "\n",
    "for i in range(0,num):\n",
    "    for j in range(0,num-i-1):\n",
    "        print(end=\" \")\n",
    "    for j in range(0,i+1):\n",
    "            print(\"*\",end=\" \")\n",
    "    print()        \n",
    "for i in range(num,0,-1):\n",
    "    for j in range(0,num-i):\n",
    "        print(end=\" \")\n",
    "    for j in range(0,i):\n",
    "        print(\"*\",end=\" \")\n",
    "    print()"
   ]
  },
  {
   "cell_type": "code",
   "execution_count": 31,
   "metadata": {},
   "outputs": [
    {
     "name": "stdout",
     "output_type": "stream",
     "text": [
      "Please enter the number of rows: 4\n",
      "****\n",
      "****\n",
      "****\n",
      "****\n"
     ]
    }
   ],
   "source": [
    "#sqaure pattern with *\n",
    "\n",
    "num = int(input(\"Please enter the number of rows: \"))\n",
    "\n",
    "for i in range(num):\n",
    "    for j in range(num):\n",
    "       print (\"*\", end=\"\")\n",
    "    print()    "
   ]
  },
  {
   "cell_type": "code",
   "execution_count": 32,
   "metadata": {},
   "outputs": [
    {
     "name": "stdout",
     "output_type": "stream",
     "text": [
      "Please enter the number of rows: 5\n",
      "55555\n",
      "4444\n",
      "333\n",
      "22\n",
      "1\n"
     ]
    }
   ],
   "source": [
    "# pattern with 55555, then 4444, then 333, then 22, then 1\n",
    "\n",
    "num = int(input(\"Please enter the number of rows: \"))\n",
    "\n",
    "for i in range(num,0,-1):\n",
    "    for j in range(1,i+1):\n",
    "        print(i,end=\"\")\n",
    "    print()    \n",
    "    \n"
   ]
  },
  {
   "cell_type": "code",
   "execution_count": 1,
   "metadata": {},
   "outputs": [
    {
     "name": "stdout",
     "output_type": "stream",
     "text": [
      "Please enter the number of rows: 5\n",
      "12345\n",
      "1234\n",
      "123\n",
      "12\n",
      "1\n"
     ]
    }
   ],
   "source": [
    "# pattern with 12345,1234,123,12,1\n",
    "\n",
    "num = num = int(input(\"Please enter the number of rows: \"))\n",
    "\n",
    "for i in range(num,0,-1):\n",
    "    for j in range(1,i+1):\n",
    "        print(j,end=\"\")\n",
    "    print()    "
   ]
  },
  {
   "cell_type": "code",
   "execution_count": 2,
   "metadata": {
    "scrolled": true
   },
   "outputs": [
    {
     "name": "stdout",
     "output_type": "stream",
     "text": [
      "Please enter the word: anumeha\n",
      "a \n",
      "a n \n",
      "a n u \n",
      "a n u m \n",
      "a n u m e \n",
      "a n u m e h \n",
      "a n u m e h a \n"
     ]
    }
   ],
   "source": [
    "#pattern with python text in above pyramid shape\n",
    "\n",
    "text= input(\"Please enter the word: \" )\n",
    "length = len(text)\n",
    "for row in range(length):\n",
    "    for col in range(row+1):\n",
    "         print(text[col],end =\" \")\n",
    "    print()"
   ]
  },
  {
   "cell_type": "code",
   "execution_count": 20,
   "metadata": {},
   "outputs": [
    {
     "name": "stdout",
     "output_type": "stream",
     "text": [
      "Please enter the number of rows: 6\n",
      "0\n",
      "11\n",
      "222\n",
      "3333\n",
      "44444\n",
      "555555\n",
      "6666666\n"
     ]
    }
   ],
   "source": [
    "num = int(input(\"Please enter the number of rows: \" ))\n",
    "\n",
    "for i in range(0,num+1):\n",
    "    for j in range(i+1):\n",
    "        print(i,end=\"\")\n",
    "    print()"
   ]
  },
  {
   "cell_type": "code",
   "execution_count": 22,
   "metadata": {},
   "outputs": [
    {
     "name": "stdout",
     "output_type": "stream",
     "text": [
      "Please enter the number of rows: 5\n",
      "\n",
      "1\n",
      "12\n",
      "123\n",
      "1234\n",
      "12345\n"
     ]
    }
   ],
   "source": [
    "num = int(input(\"Please enter the number of rows: \" ))\n",
    "\n",
    "for i in range(0,num+1):\n",
    "    for j in range(1,i+1):\n",
    "        print(j,end=\"\")\n",
    "    print()    "
   ]
  },
  {
   "cell_type": "code",
   "execution_count": 29,
   "metadata": {},
   "outputs": [
    {
     "name": "stdout",
     "output_type": "stream",
     "text": [
      "Please enter the number of rows: 5\n",
      "5555\n",
      "444\n",
      "33\n",
      "2\n"
     ]
    }
   ],
   "source": [
    "num = int(input(\"Please enter the number of rows: \" ))\n",
    "\n",
    "for i in range (num,1,-1):\n",
    "    for j in range(i-1):\n",
    "       print(i,end=\"\")\n",
    "    print()    \n",
    "    "
   ]
  },
  {
   "cell_type": "code",
   "execution_count": null,
   "metadata": {},
   "outputs": [],
   "source": []
  }
 ],
 "metadata": {
  "kernelspec": {
   "display_name": "Python 3",
   "language": "python",
   "name": "python3"
  },
  "language_info": {
   "codemirror_mode": {
    "name": "ipython",
    "version": 3
   },
   "file_extension": ".py",
   "mimetype": "text/x-python",
   "name": "python",
   "nbconvert_exporter": "python",
   "pygments_lexer": "ipython3",
   "version": "3.8.3"
  }
 },
 "nbformat": 4,
 "nbformat_minor": 4
}
