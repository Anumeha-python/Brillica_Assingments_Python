{
 "cells": [
  {
   "cell_type": "code",
   "execution_count": 2,
   "metadata": {},
   "outputs": [
    {
     "name": "stdout",
     "output_type": "stream",
     "text": [
      "Please enter the number: 5\n",
      "The factorial of a number 5 is 120\n"
     ]
    }
   ],
   "source": [
    "# find the factorial of a number using for loop \n",
    "\n",
    "num = int(input(\"Please enter the number: \"))\n",
    "result = 1 \n",
    "\n",
    "for i in range(num,0,-1):\n",
    "    result = result*i\n",
    "print(\"The factorial of a number\",num,\"is\",result)\n"
   ]
  },
  {
   "cell_type": "code",
   "execution_count": 9,
   "metadata": {},
   "outputs": [
    {
     "name": "stdout",
     "output_type": "stream",
     "text": [
      "Please enter the number: 4\n",
      "The factorial of a number is 24\n"
     ]
    }
   ],
   "source": [
    "# find the factorial of a number using while loop\n",
    "\n",
    "num = int(input(\"Please enter the number: \"))\n",
    "result = 1\n",
    "\n",
    "while num>=2:\n",
    "    result = result*num\n",
    "    num-=1\n",
    "print(\"The factorial of a number is\",result)    "
   ]
  },
  {
   "cell_type": "code",
   "execution_count": null,
   "metadata": {},
   "outputs": [],
   "source": []
  },
  {
   "cell_type": "code",
   "execution_count": null,
   "metadata": {},
   "outputs": [],
   "source": []
  },
  {
   "cell_type": "code",
   "execution_count": null,
   "metadata": {},
   "outputs": [],
   "source": []
  }
 ],
 "metadata": {
  "kernelspec": {
   "display_name": "Python 3",
   "language": "python",
   "name": "python3"
  },
  "language_info": {
   "codemirror_mode": {
    "name": "ipython",
    "version": 3
   },
   "file_extension": ".py",
   "mimetype": "text/x-python",
   "name": "python",
   "nbconvert_exporter": "python",
   "pygments_lexer": "ipython3",
   "version": "3.8.3"
  }
 },
 "nbformat": 4,
 "nbformat_minor": 4
}
