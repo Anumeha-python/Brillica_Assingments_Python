{
 "cells": [
  {
   "cell_type": "code",
   "execution_count": 13,
   "metadata": {},
   "outputs": [
    {
     "name": "stdout",
     "output_type": "stream",
     "text": [
      "Please enter the cost price of the product: 200\n",
      "Please enter the selling price of the product: 300\n",
      "I have made a profit of 100 ruppee\n"
     ]
    }
   ],
   "source": [
    "#If else Statement \n",
    "\n",
    "cost_price = int(input(\"Please enter the cost price of the product: \"))\n",
    "selling_price = int(input(\"Please enter the selling price of the product: \"))\n",
    "if selling_price>cost_price:\n",
    "    profit = selling_price - cost_price  \n",
    "    print(\"I have made a profit of {} ruppee\".format(profit))\n",
    "else: \n",
    "    loss = cost_price - selling_price\n",
    "    print(\"I have made a loss of {} ruppee\".format(loss))"
   ]
  },
  {
   "cell_type": "code",
   "execution_count": 18,
   "metadata": {},
   "outputs": [
    {
     "name": "stdout",
     "output_type": "stream",
     "text": [
      "Enter the first side: 10\n",
      "Enter the secand side: 20\n",
      "It is Rectangle and its area is 100\n"
     ]
    }
   ],
   "source": [
    "var_1 = int(input(\"Enter the first side: \"))\n",
    "var_2 = int(input(\"Enter the secand side: \"))\n",
    "\n",
    "\n",
    "if var_1 ==var_2:\n",
    "    area = var_1*var_2\n",
    "    print('It is Square and its area is {}'.format(area))\n",
    "else:\n",
    "    print('It is Rectangle and its area is {}'.format(area))\n",
    "\n",
    "\n",
    " \n",
    "  "
   ]
  },
  {
   "cell_type": "code",
   "execution_count": 27,
   "metadata": {},
   "outputs": [
    {
     "name": "stdout",
     "output_type": "stream",
     "text": [
      "Enter the number: 5\n",
      "the number is an odd number\n"
     ]
    }
   ],
   "source": [
    "num_1 = int(input(\"Enter the number: \"))\n",
    "\n",
    "if num_1%2 and num_1 !=0:\n",
    "    print(\"the number is an odd number\")\n",
    "else:\n",
    "    print(\"the number is an even number\")"
   ]
  },
  {
   "cell_type": "code",
   "execution_count": 36,
   "metadata": {},
   "outputs": [
    {
     "name": "stdout",
     "output_type": "stream",
     "text": [
      "Enter the price at which share was bought: 100\n",
      "Enter the price at which share was sold: 200\n",
      "How many quantity: 3\n",
      "you have made a profit of 300\n"
     ]
    }
   ],
   "source": [
    "buy = int(input(\"Enter the price at which share was bought: \"))\n",
    "sell = int(input(\"Enter the price at which share was sold: \"))\n",
    "qnt = int(input(\"How many quantity: \"))\n",
    "                \n",
    "if  buy > sell:\n",
    "    loss = (buy - sell)*qnt\n",
    "    print(\"You have made a loss of {}\".format(loss))\n",
    "elif buy == sell:\n",
    "    print(\"you trade is break even\")\n",
    "else: \n",
    "    profit = (sell - buy)*qnt\n",
    "    print (\"you have made a profit of {}\".format(profit))\n",
    "                \n",
    "                \n",
    "                \n",
    "                "
   ]
  },
  {
   "cell_type": "code",
   "execution_count": null,
   "metadata": {},
   "outputs": [],
   "source": [
    "# given one number, find its positive negative or equal to zero \n",
    "#give two number find the greatest or smallest or equal \n",
    "\n",
    "\n",
    "#Trip planner \n",
    "#it will ask you from your bugdet \n",
    "\n",
    "#5000 equal and less 6000 the it will recomment that you can got to shimla \n",
    "#equal to 6000 and less than 7000\n",
    "\n",
    "#equal to 7000 and less than 8000\n",
    "\n",
    "\n",
    "#greater than 8000, recommend same location \n",
    "\n"
   ]
  }
 ],
 "metadata": {
  "kernelspec": {
   "display_name": "Python 3",
   "language": "python",
   "name": "python3"
  },
  "language_info": {
   "codemirror_mode": {
    "name": "ipython",
    "version": 3
   },
   "file_extension": ".py",
   "mimetype": "text/x-python",
   "name": "python",
   "nbconvert_exporter": "python",
   "pygments_lexer": "ipython3",
   "version": "3.8.3"
  }
 },
 "nbformat": 4,
 "nbformat_minor": 4
}
