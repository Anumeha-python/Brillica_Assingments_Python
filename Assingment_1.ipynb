{
 "cells": [
  {
   "cell_type": "code",
   "execution_count": 8,
   "metadata": {},
   "outputs": [
    {
     "name": "stdout",
     "output_type": "stream",
     "text": [
      "Enter the number: -2\n",
      "the -2 is a negative number\n"
     ]
    }
   ],
   "source": [
    "#To identify whether the provided number is positive, negative or equal to zero\n",
    "\n",
    "num_1 = int(input(\"Enter the number: \"))\n",
    "\n",
    "if num_1 >0:\n",
    "    print(\"the {} is a positive number\".format(num_1))\n",
    "elif num_1 == 0:\n",
    "    print(\"the {} is a equal to zero\".format(num_1))\n",
    "else:\n",
    "    print(\"the {} is a negative number\".format(num_1))"
   ]
  },
  {
   "cell_type": "code",
   "execution_count": 11,
   "metadata": {},
   "outputs": [
    {
     "name": "stdout",
     "output_type": "stream",
     "text": [
      "Enter the first number: 2\n",
      "Enter the secand number: 2\n",
      "Both the numbers are equal.\n"
     ]
    }
   ],
   "source": [
    "#To identify whether from the given two numbers, which one is greater, smaller or equal to \n",
    "\n",
    "num_1 = int(input(\"Enter the first number: \"))\n",
    "num_2 = int(input(\"Enter the secand number: \"))\n",
    "\n",
    "if num_1>num_2:\n",
    "    print(\"the {} is greater\".format(num_1))\n",
    "elif num_1 == num_2:\n",
    "     print(\"Both the numbers are equal.\")\n",
    "else:\n",
    "     print(\"the {} is smaller\".format(num_1))\n",
    "    "
   ]
  },
  {
   "cell_type": "code",
   "execution_count": 35,
   "metadata": {},
   "outputs": [
    {
     "name": "stdout",
     "output_type": "stream",
     "text": [
      "Please enter your budget: 600\n",
      "Please select your budget\n"
     ]
    }
   ],
   "source": [
    "#Trip planner \n",
    "#it will ask you from your bugdet \n",
    "#5000 equal and less 6000 the it will recomment that you can got to shimla \n",
    "#equal to 6000 and less than 7000\n",
    "#equal to 7000 and less than 8000\n",
    "#greater than 8000, recommend same location \n",
    "\n",
    "budget = int(input(\"Please enter your budget: \"))\n",
    "\n",
    "if budget>=5000 and budget<6000:\n",
    "    print(\"Shimla is your destination.\")\n",
    "elif budget>=6000 and budget<7000:\n",
    "     print(\"Mcleodganj is your destination.\")\n",
    "elif budget>=7000 and budget<8000:\n",
    "     print(\"Chennai is your destination.\") \n",
    "elif budget>=8000:\n",
    "     print(\"Andaman is your destination.\")\n",
    "else:\n",
    "    print(\"Please select your budget\")\n",
    "    "
   ]
  },
  {
   "cell_type": "code",
   "execution_count": null,
   "metadata": {},
   "outputs": [],
   "source": []
  },
  {
   "cell_type": "code",
   "execution_count": null,
   "metadata": {},
   "outputs": [],
   "source": []
  },
  {
   "cell_type": "code",
   "execution_count": null,
   "metadata": {},
   "outputs": [],
   "source": []
  }
 ],
 "metadata": {
  "kernelspec": {
   "display_name": "Python 3",
   "language": "python",
   "name": "python3"
  },
  "language_info": {
   "codemirror_mode": {
    "name": "ipython",
    "version": 3
   },
   "file_extension": ".py",
   "mimetype": "text/x-python",
   "name": "python",
   "nbconvert_exporter": "python",
   "pygments_lexer": "ipython3",
   "version": "3.8.3"
  }
 },
 "nbformat": 4,
 "nbformat_minor": 4
}
